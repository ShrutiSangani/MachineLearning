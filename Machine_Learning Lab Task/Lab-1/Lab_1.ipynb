{
  "nbformat": 4,
  "nbformat_minor": 0,
  "metadata": {
    "colab": {
      "provenance": []
    },
    "kernelspec": {
      "name": "python3",
      "display_name": "Python 3"
    },
    "language_info": {
      "name": "python"
    }
  },
  "cells": [
    {
      "cell_type": "markdown",
      "source": [
        "# **Numpy Lab-1 Task**\n",
        "\n",
        "**numpy array**"
      ],
      "metadata": {
        "id": "appWYBYYHWkB"
      }
    },
    {
      "cell_type": "markdown",
      "source": [
        "**1D array**"
      ],
      "metadata": {
        "id": "nP8NhiwuEKBp"
      }
    },
    {
      "cell_type": "code",
      "execution_count": 28,
      "metadata": {
        "colab": {
          "base_uri": "https://localhost:8080/"
        },
        "id": "b3lE9YifYlMK",
        "outputId": "82e33085-db99-4338-c798-5fe6cbc27629"
      },
      "outputs": [
        {
          "output_type": "stream",
          "name": "stdout",
          "text": [
            "[1 2 3]\n"
          ]
        }
      ],
      "source": [
        "import numpy as np\n",
        "\n",
        "a=np.array([1,2,3])\n",
        "print(a)"
      ]
    },
    {
      "cell_type": "markdown",
      "source": [
        "**2D and 3D array**"
      ],
      "metadata": {
        "id": "qTHj5ZxrER0Q"
      }
    },
    {
      "cell_type": "code",
      "source": [
        "b=np.array([[1,2,3],[4,5,6]])\n",
        "print(b)\n",
        "\n",
        "c=np.array([[[1,2],[3,4]],[[5,6],[7,8]]])\n",
        "print(c)"
      ],
      "metadata": {
        "colab": {
          "base_uri": "https://localhost:8080/"
        },
        "id": "B6Ii5oNeZBv8",
        "outputId": "afc4956c-2898-4df3-8a3d-26921522e5fd"
      },
      "execution_count": null,
      "outputs": [
        {
          "output_type": "stream",
          "name": "stdout",
          "text": [
            "[[1 2 3]\n",
            " [4 5 6]]\n",
            "[[[1 2]\n",
            "  [3 4]]\n",
            "\n",
            " [[5 6]\n",
            "  [7 8]]]\n"
          ]
        }
      ]
    },
    {
      "cell_type": "markdown",
      "source": [
        "**Shape**\n",
        "\n",
        "Shape used for array dimensions"
      ],
      "metadata": {
        "id": "2Bvl9cH2EWdR"
      }
    },
    {
      "cell_type": "code",
      "source": [
        "print(a.shape)\n",
        "print(b.shape)\n",
        "print(c.shape)"
      ],
      "metadata": {
        "colab": {
          "base_uri": "https://localhost:8080/"
        },
        "id": "wlpug48kb07J",
        "outputId": "cdfdbcb1-2841-4cca-f0e1-7163bdad266c"
      },
      "execution_count": null,
      "outputs": [
        {
          "output_type": "stream",
          "name": "stdout",
          "text": [
            "(3,)\n",
            "(2, 3)\n",
            "(2, 2, 2)\n"
          ]
        }
      ]
    },
    {
      "cell_type": "markdown",
      "source": [
        "# **ndim**\n",
        "ndim used for Number of array dimensions"
      ],
      "metadata": {
        "id": "LMs-9f0PE3be"
      }
    },
    {
      "cell_type": "code",
      "source": [
        "a.ndim"
      ],
      "metadata": {
        "colab": {
          "base_uri": "https://localhost:8080/"
        },
        "id": "-jtrQQ0NcxG8",
        "outputId": "3fa4ff6d-097c-4e4b-9b9b-b6e2612e6433"
      },
      "execution_count": null,
      "outputs": [
        {
          "output_type": "execute_result",
          "data": {
            "text/plain": [
              "1"
            ]
          },
          "metadata": {},
          "execution_count": 4
        }
      ]
    },
    {
      "cell_type": "code",
      "source": [
        "b.ndim"
      ],
      "metadata": {
        "colab": {
          "base_uri": "https://localhost:8080/"
        },
        "id": "mQif0rDkc67X",
        "outputId": "0123ff7c-073c-4c81-fe35-301573a9be83"
      },
      "execution_count": null,
      "outputs": [
        {
          "output_type": "execute_result",
          "data": {
            "text/plain": [
              "2"
            ]
          },
          "metadata": {},
          "execution_count": 5
        }
      ]
    },
    {
      "cell_type": "code",
      "source": [
        "c.ndim"
      ],
      "metadata": {
        "colab": {
          "base_uri": "https://localhost:8080/"
        },
        "id": "YQZRrPf2c8qR",
        "outputId": "4c8611a1-96ea-4041-ca61-c421bec218ad"
      },
      "execution_count": null,
      "outputs": [
        {
          "output_type": "execute_result",
          "data": {
            "text/plain": [
              "3"
            ]
          },
          "metadata": {},
          "execution_count": 6
        }
      ]
    },
    {
      "cell_type": "markdown",
      "source": [
        "# **arange() and reshape()**\n",
        "\n",
        "arange used for create array\n",
        "\n",
        "reshape used for reshape the array dimensions"
      ],
      "metadata": {
        "id": "fbUVAYy4FQ5C"
      }
    },
    {
      "cell_type": "code",
      "source": [
        "x=np.arange(3,7)\n",
        "print(x)\n",
        "y=np.arange(6).reshape((3,2))\n",
        "print(y)\n",
        "print(x.shape)\n",
        "print(y.shape)"
      ],
      "metadata": {
        "colab": {
          "base_uri": "https://localhost:8080/"
        },
        "id": "f84bQeVmc_eb",
        "outputId": "9387f2eb-80d9-4122-b9b6-9b1a804d5484"
      },
      "execution_count": null,
      "outputs": [
        {
          "output_type": "stream",
          "name": "stdout",
          "text": [
            "[3 4 5 6]\n",
            "[[0 1]\n",
            " [2 3]\n",
            " [4 5]]\n",
            "(4,)\n",
            "(3, 2)\n"
          ]
        }
      ]
    },
    {
      "cell_type": "code",
      "source": [
        "z=np.arange(24).reshape(2,3,4)\n",
        "print(z)\n",
        "print(z.shape)"
      ],
      "metadata": {
        "colab": {
          "base_uri": "https://localhost:8080/"
        },
        "id": "H40UJ--LfdGM",
        "outputId": "4821dd0b-099f-43f4-ccea-037e68de6509"
      },
      "execution_count": null,
      "outputs": [
        {
          "output_type": "stream",
          "name": "stdout",
          "text": [
            "[[[ 0  1  2  3]\n",
            "  [ 4  5  6  7]\n",
            "  [ 8  9 10 11]]\n",
            "\n",
            " [[12 13 14 15]\n",
            "  [16 17 18 19]\n",
            "  [20 21 22 23]]]\n",
            "(2, 3, 4)\n"
          ]
        }
      ]
    },
    {
      "cell_type": "code",
      "source": [
        "ar=np.arange(12).reshape(3,4)\n",
        "print(ar)\n",
        "print(ar.shape)"
      ],
      "metadata": {
        "colab": {
          "base_uri": "https://localhost:8080/"
        },
        "id": "L6xvIyLWfmGS",
        "outputId": "2309a036-fa9c-4579-ff30-88209ca64a9a"
      },
      "execution_count": null,
      "outputs": [
        {
          "output_type": "stream",
          "name": "stdout",
          "text": [
            "[[ 0  1  2  3]\n",
            " [ 4  5  6  7]\n",
            " [ 8  9 10 11]]\n",
            "(3, 4)\n"
          ]
        }
      ]
    },
    {
      "cell_type": "code",
      "source": [
        "x.ndim"
      ],
      "metadata": {
        "colab": {
          "base_uri": "https://localhost:8080/"
        },
        "id": "2kuipMQTgAef",
        "outputId": "3e0101ec-cf2a-413a-a926-b31da46d91da"
      },
      "execution_count": null,
      "outputs": [
        {
          "output_type": "execute_result",
          "data": {
            "text/plain": [
              "1"
            ]
          },
          "metadata": {},
          "execution_count": 10
        }
      ]
    },
    {
      "cell_type": "code",
      "source": [
        "y.ndim"
      ],
      "metadata": {
        "colab": {
          "base_uri": "https://localhost:8080/"
        },
        "id": "-hF3WlRdgChs",
        "outputId": "0f14b444-17c7-454d-9228-e5e9c9707685"
      },
      "execution_count": null,
      "outputs": [
        {
          "output_type": "execute_result",
          "data": {
            "text/plain": [
              "2"
            ]
          },
          "metadata": {},
          "execution_count": 11
        }
      ]
    },
    {
      "cell_type": "code",
      "source": [
        "z.ndim"
      ],
      "metadata": {
        "colab": {
          "base_uri": "https://localhost:8080/"
        },
        "id": "MH4cKSB9gE5g",
        "outputId": "f8cd0fc9-e915-421e-c133-8870fcac05af"
      },
      "execution_count": null,
      "outputs": [
        {
          "output_type": "execute_result",
          "data": {
            "text/plain": [
              "3"
            ]
          },
          "metadata": {},
          "execution_count": 12
        }
      ]
    },
    {
      "cell_type": "code",
      "source": [
        "np.arange(16).reshape(2,2,2,2)"
      ],
      "metadata": {
        "colab": {
          "base_uri": "https://localhost:8080/"
        },
        "id": "TNlddRI4f4GF",
        "outputId": "a16bfbf0-8ad8-407b-de8c-0f393cfda029"
      },
      "execution_count": null,
      "outputs": [
        {
          "output_type": "execute_result",
          "data": {
            "text/plain": [
              "array([[[[ 0,  1],\n",
              "         [ 2,  3]],\n",
              "\n",
              "        [[ 4,  5],\n",
              "         [ 6,  7]]],\n",
              "\n",
              "\n",
              "       [[[ 8,  9],\n",
              "         [10, 11]],\n",
              "\n",
              "        [[12, 13],\n",
              "         [14, 15]]]])"
            ]
          },
          "metadata": {},
          "execution_count": 13
        }
      ]
    },
    {
      "cell_type": "code",
      "source": [
        "np.arange(48).reshape(2,2,3,4)"
      ],
      "metadata": {
        "colab": {
          "base_uri": "https://localhost:8080/"
        },
        "id": "wnDGmLR5g1Qk",
        "outputId": "f661e737-c39d-4ccb-8702-69af9bfa3974"
      },
      "execution_count": null,
      "outputs": [
        {
          "output_type": "execute_result",
          "data": {
            "text/plain": [
              "array([[[[ 0,  1,  2,  3],\n",
              "         [ 4,  5,  6,  7],\n",
              "         [ 8,  9, 10, 11]],\n",
              "\n",
              "        [[12, 13, 14, 15],\n",
              "         [16, 17, 18, 19],\n",
              "         [20, 21, 22, 23]]],\n",
              "\n",
              "\n",
              "       [[[24, 25, 26, 27],\n",
              "         [28, 29, 30, 31],\n",
              "         [32, 33, 34, 35]],\n",
              "\n",
              "        [[36, 37, 38, 39],\n",
              "         [40, 41, 42, 43],\n",
              "         [44, 45, 46, 47]]]])"
            ]
          },
          "metadata": {},
          "execution_count": 14
        }
      ]
    },
    {
      "cell_type": "markdown",
      "source": [
        "# **Indexing and slicing**"
      ],
      "metadata": {
        "id": "n6ZXGH0rio_K"
      }
    },
    {
      "cell_type": "code",
      "source": [
        "a1=np.arange(10)\n",
        "print(\"a1 : \",a1)\n",
        "print()\n",
        "a2=np.arange(12).reshape(3,4)\n",
        "print(\"a2 : \",a2)\n",
        "print()\n",
        "a3=np.arange(8).reshape(2,2,2)\n",
        "print(\"a3 : \",a3)"
      ],
      "metadata": {
        "colab": {
          "base_uri": "https://localhost:8080/"
        },
        "id": "UmQotUn4isFQ",
        "outputId": "35a8de2a-bc34-41d1-b5b0-3deabe12aa87"
      },
      "execution_count": null,
      "outputs": [
        {
          "output_type": "stream",
          "name": "stdout",
          "text": [
            "a1 :  [0 1 2 3 4 5 6 7 8 9]\n",
            "\n",
            "a2 :  [[ 0  1  2  3]\n",
            " [ 4  5  6  7]\n",
            " [ 8  9 10 11]]\n",
            "\n",
            "a3 :  [[[0 1]\n",
            "  [2 3]]\n",
            "\n",
            " [[4 5]\n",
            "  [6 7]]]\n"
          ]
        }
      ]
    },
    {
      "cell_type": "code",
      "source": [
        "print(\"a[5]: \",a1[5])\n",
        "print(\"a[1:]: \",a1[1:])\n",
        "print(\"a[1:5]: \",a1[1:5])\n",
        "print(\"a[3:8]: \",a1[3:8])\n",
        "print(\"a[3:8:2]: \",a1[3:8:2])\n",
        "print(\"a[-10:-5:2]: \",a1[-10:-5:2])\n",
        "print(\"a[-1:-8:2]: \",a1[-1:-8:2])\n",
        "print(\"a[-1:-8:-2]: \",a1[-1:-8:-2])"
      ],
      "metadata": {
        "colab": {
          "base_uri": "https://localhost:8080/"
        },
        "id": "jz6AFVM1jpYN",
        "outputId": "37f470b1-8363-4617-a8ab-93f21de31884"
      },
      "execution_count": null,
      "outputs": [
        {
          "output_type": "stream",
          "name": "stdout",
          "text": [
            "a[5]:  5\n",
            "a[1:]:  [1 2 3 4 5 6 7 8 9]\n",
            "a[1:5]:  [1 2 3 4]\n",
            "a[3:8]:  [3 4 5 6 7]\n",
            "a[3:8:2]:  [3 5 7]\n",
            "a[-10:-5:2]:  [0 2 4]\n",
            "a[-1:-8:2]:  []\n",
            "a[-1:-8:-2]:  [9 7 5 3]\n"
          ]
        }
      ]
    },
    {
      "cell_type": "code",
      "source": [
        "print(\"a2[1:,1:]:\", a2[1:,1:])\n",
        "print(\"a2[1:]:\", a2[1:])\n",
        "print(\"a2[1:,0::3]: \",a2[1:,0::3])"
      ],
      "metadata": {
        "colab": {
          "base_uri": "https://localhost:8080/"
        },
        "id": "7Jq1irU7kr9P",
        "outputId": "b7a9cdd7-f5e3-42f3-c50e-2ac6874d8323"
      },
      "execution_count": null,
      "outputs": [
        {
          "output_type": "stream",
          "name": "stdout",
          "text": [
            "a2[1:,1:]: [[ 5  6  7]\n",
            " [ 9 10 11]]\n",
            "a2[1:]: [[ 4  5  6  7]\n",
            " [ 8  9 10 11]]\n",
            "a2[1:,0::3]:  [[ 4  7]\n",
            " [ 8 11]]\n"
          ]
        }
      ]
    },
    {
      "cell_type": "code",
      "source": [
        "print(a3[1,1:])\n",
        "print(a3[1,1])\n",
        "print(a3[0,1,1])"
      ],
      "metadata": {
        "colab": {
          "base_uri": "https://localhost:8080/"
        },
        "id": "4M1v31Xtmc4N",
        "outputId": "1a117af6-615f-48c0-a35a-0b06723e25d2"
      },
      "execution_count": null,
      "outputs": [
        {
          "output_type": "stream",
          "name": "stdout",
          "text": [
            "[[6 7]]\n",
            "[6 7]\n",
            "3\n"
          ]
        }
      ]
    },
    {
      "cell_type": "code",
      "source": [
        "a4=np.arange(27).reshape(3,3,3)\n",
        "print(a4)"
      ],
      "metadata": {
        "colab": {
          "base_uri": "https://localhost:8080/"
        },
        "id": "ggVkRbOpnjLd",
        "outputId": "75a81fe8-7d56-4e27-9bf6-273f465fe601"
      },
      "execution_count": null,
      "outputs": [
        {
          "output_type": "stream",
          "name": "stdout",
          "text": [
            "[[[ 0  1  2]\n",
            "  [ 3  4  5]\n",
            "  [ 6  7  8]]\n",
            "\n",
            " [[ 9 10 11]\n",
            "  [12 13 14]\n",
            "  [15 16 17]]\n",
            "\n",
            " [[18 19 20]\n",
            "  [21 22 23]\n",
            "  [24 25 26]]]\n"
          ]
        }
      ]
    },
    {
      "cell_type": "code",
      "source": [
        "print(a4[::2,0,::2])"
      ],
      "metadata": {
        "colab": {
          "base_uri": "https://localhost:8080/"
        },
        "id": "rC-GsIchnqiq",
        "outputId": "676181e1-be33-4891-8851-d1a15ee356e9"
      },
      "execution_count": null,
      "outputs": [
        {
          "output_type": "stream",
          "name": "stdout",
          "text": [
            "[[ 0  2]\n",
            " [18 20]]\n"
          ]
        }
      ]
    },
    {
      "cell_type": "markdown",
      "source": [
        "# **random.randit()**\n",
        "\n",
        "random.randit used for create array which element is random no."
      ],
      "metadata": {
        "id": "mS0KSY8fF36F"
      }
    },
    {
      "cell_type": "code",
      "source": [
        "q=np.random.randint(1,100,24).reshape(6,4)\n",
        "print(q)"
      ],
      "metadata": {
        "colab": {
          "base_uri": "https://localhost:8080/"
        },
        "id": "6mRQUTlNrcVx",
        "outputId": "265a711a-b5e5-4743-c44e-2e65ea63bfc1"
      },
      "execution_count": null,
      "outputs": [
        {
          "output_type": "stream",
          "name": "stdout",
          "text": [
            "[[33 71 79 95]\n",
            " [53 31 21 94]\n",
            " [96 63 95 34]\n",
            " [71 47 93 53]\n",
            " [84 73  4 71]\n",
            " [36 29 39  6]]\n"
          ]
        }
      ]
    },
    {
      "cell_type": "code",
      "source": [
        "print(\"q[q>50]: \",q[q>50])\n",
        "print(\"even no.: \",q[q%2==0])"
      ],
      "metadata": {
        "colab": {
          "base_uri": "https://localhost:8080/"
        },
        "id": "YVT5vSbHrfNK",
        "outputId": "79836224-2fdc-4617-c919-a3a30af17fe8"
      },
      "execution_count": null,
      "outputs": [
        {
          "output_type": "stream",
          "name": "stdout",
          "text": [
            "q[q>50]:  [71 79 95 53 94 96 63 95 71 93 53 84 73 71]\n",
            "even no.:  [94 96 34 84  4 36  6]\n"
          ]
        }
      ]
    },
    {
      "cell_type": "code",
      "source": [
        "m=np.isin(q,[31,78])\n",
        "print(m)"
      ],
      "metadata": {
        "colab": {
          "base_uri": "https://localhost:8080/"
        },
        "id": "dhLHiYO6sNR1",
        "outputId": "cf0a7d10-7aa7-4e8e-ff63-089e5517ed04"
      },
      "execution_count": null,
      "outputs": [
        {
          "output_type": "stream",
          "name": "stdout",
          "text": [
            "[[False False False False]\n",
            " [False  True False False]\n",
            " [False False False False]\n",
            " [False False False False]\n",
            " [False False False False]\n",
            " [False False False False]]\n"
          ]
        }
      ]
    }
  ]
}