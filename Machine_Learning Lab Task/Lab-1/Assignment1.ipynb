{
 "cells": [
  {
   "cell_type": "markdown",
   "id": "7908fc86",
   "metadata": {},
   "source": [
    "# Numpy Assignment\n",
    "\n",
    "* reshape(-1,1)\n",
    "* copy()\n",
    "* view()\n",
    "* broadcasting"
   ]
  },
  {
   "cell_type": "code",
   "execution_count": 12,
   "id": "b0c04bcf",
   "metadata": {
    "scrolled": true
   },
   "outputs": [
    {
     "data": {
      "text/plain": [
       "array([1., 2., 3.])"
      ]
     },
     "execution_count": 12,
     "metadata": {},
     "output_type": "execute_result"
    }
   ],
   "source": [
    "import numpy as np\n",
    "np.array([1,2,3],dtype=float)"
   ]
  },
  {
   "cell_type": "code",
   "execution_count": 2,
   "id": "7ddca338",
   "metadata": {},
   "outputs": [
    {
     "data": {
      "text/plain": [
       "array([-10,  -9,  -7,  -5,  -3,  -1,   1,   3,   5])"
      ]
     },
     "execution_count": 2,
     "metadata": {},
     "output_type": "execute_result"
    }
   ],
   "source": [
    "np.random.random((3,4))\n",
    "np.linspace(-10,5,9,dtype=int)"
   ]
  },
  {
   "cell_type": "code",
   "execution_count": 3,
   "id": "635dad9c",
   "metadata": {},
   "outputs": [
    {
     "data": {
      "text/plain": [
       "array([[0.98643875, 0.02811579, 0.83474436, 0.53369164],\n",
       "       [0.12992796, 0.84654988, 0.0413379 , 0.94890949],\n",
       "       [0.56708712, 0.752803  , 0.5185663 , 0.28589049]])"
      ]
     },
     "execution_count": 3,
     "metadata": {},
     "output_type": "execute_result"
    }
   ],
   "source": [
    "np.random.random((3,4))"
   ]
  },
  {
   "cell_type": "code",
   "execution_count": 8,
   "id": "9f3b08f4",
   "metadata": {},
   "outputs": [
    {
     "name": "stdout",
     "output_type": "stream",
     "text": [
      "1\n",
      "2\n",
      "3\n",
      "4\n",
      "5\n",
      "6\n",
      "7\n",
      "8\n"
     ]
    }
   ],
   "source": [
    "a1=[1,2,3,4,5,6,7,8]\n",
    "for i in a1:\n",
    "  print(i)"
   ]
  },
  {
   "cell_type": "markdown",
   "id": "33254f9c",
   "metadata": {},
   "source": [
    "**reshape(-1,1)**"
   ]
  },
  {
   "cell_type": "code",
   "execution_count": 9,
   "id": "7ef318b9",
   "metadata": {
    "scrolled": true
   },
   "outputs": [
    {
     "data": {
      "text/plain": [
       "array([[1],\n",
       "       [2],\n",
       "       [3],\n",
       "       [4],\n",
       "       [5],\n",
       "       [6],\n",
       "       [7],\n",
       "       [8]])"
      ]
     },
     "execution_count": 9,
     "metadata": {},
     "output_type": "execute_result"
    }
   ],
   "source": [
    "a2=np.array([1,2,3,4,5,6,7,8])\n",
    "a2.reshape(-1,1)"
   ]
  },
  {
   "cell_type": "markdown",
   "id": "7aec6653",
   "metadata": {},
   "source": [
    "**copy()**"
   ]
  },
  {
   "cell_type": "code",
   "execution_count": 10,
   "id": "2137c616",
   "metadata": {},
   "outputs": [],
   "source": [
    "x = np.array([1, 2, 3])\n",
    "y = x\n",
    "z = np.copy(x)"
   ]
  },
  {
   "cell_type": "code",
   "execution_count": 12,
   "id": "e4189dd7",
   "metadata": {},
   "outputs": [
    {
     "data": {
      "text/plain": [
       "True"
      ]
     },
     "execution_count": 12,
     "metadata": {},
     "output_type": "execute_result"
    }
   ],
   "source": [
    "x[0] = 10\n",
    "x[0] == y[0]"
   ]
  },
  {
   "cell_type": "code",
   "execution_count": 14,
   "id": "45d82045",
   "metadata": {},
   "outputs": [
    {
     "name": "stdout",
     "output_type": "stream",
     "text": [
      "x ::  [10  2  3]\n",
      "y ::  [10  2  3]\n",
      "z ::  [1 2 3]\n"
     ]
    }
   ],
   "source": [
    "x[0] == z[0]\n",
    "print(\"x :: \",x)\n",
    "print(\"y :: \",y)\n",
    "print(\"z :: \",z)"
   ]
  },
  {
   "cell_type": "markdown",
   "id": "3a80fbf9",
   "metadata": {},
   "source": [
    "**view()**"
   ]
  },
  {
   "cell_type": "code",
   "execution_count": 13,
   "id": "5da8dfa1",
   "metadata": {},
   "outputs": [
    {
     "name": "stdout",
     "output_type": "stream",
     "text": [
      "[[ 0  1  2  3]\n",
      " [ 4  5  6  7]\n",
      " [ 8  9 10 11]]\n"
     ]
    }
   ],
   "source": [
    "v=np.arange(12).reshape(3,4)\n",
    "print(v)"
   ]
  },
  {
   "cell_type": "code",
   "execution_count": 14,
   "id": "bf008808",
   "metadata": {},
   "outputs": [
    {
     "name": "stdout",
     "output_type": "stream",
     "text": [
      "[[ 0  1  2  3]\n",
      " [ 4  5  6  7]\n",
      " [ 8  9 10 11]]\n"
     ]
    }
   ],
   "source": [
    "v1=v.view()\n",
    "print(v1)"
   ]
  },
  {
   "cell_type": "code",
   "execution_count": 15,
   "id": "1790271e",
   "metadata": {},
   "outputs": [
    {
     "name": "stdout",
     "output_type": "stream",
     "text": [
      "[[ 0  2  4  6]\n",
      " [ 8 10 12 14]\n",
      " [16 18 20 22]]\n"
     ]
    }
   ],
   "source": [
    "v1*=2\n",
    "print(v1)"
   ]
  },
  {
   "cell_type": "code",
   "execution_count": 16,
   "id": "110770a0",
   "metadata": {},
   "outputs": [
    {
     "name": "stdout",
     "output_type": "stream",
     "text": [
      "[[ 0  2  4  6]\n",
      " [ 8 10 12 14]\n",
      " [16 18 20 22]]\n"
     ]
    }
   ],
   "source": [
    "print(v)"
   ]
  },
  {
   "cell_type": "markdown",
   "id": "dc731b10",
   "metadata": {},
   "source": [
    "**Broadcasting**"
   ]
  },
  {
   "cell_type": "code",
   "execution_count": 15,
   "id": "c48378c0",
   "metadata": {},
   "outputs": [
    {
     "data": {
      "text/plain": [
       "array([2., 4., 6.])"
      ]
     },
     "execution_count": 15,
     "metadata": {},
     "output_type": "execute_result"
    }
   ],
   "source": [
    "a = np.array([1.0, 2.0, 3.0])\n",
    "b = np.array([2.0, 2.0, 2.0])\n",
    "a * b"
   ]
  },
  {
   "cell_type": "code",
   "execution_count": 5,
   "id": "3b730442",
   "metadata": {},
   "outputs": [
    {
     "name": "stdout",
     "output_type": "stream",
     "text": [
      "[[0 1 2]\n",
      " [3 4 5]]\n",
      "[[ 6  7  8]\n",
      " [ 9 10 11]]\n",
      "[[ 6  8 10]\n",
      " [12 14 16]]\n"
     ]
    }
   ],
   "source": [
    "a3 = np.arange(6).reshape(2,3)\n",
    "b3 = np.arange(6,12).reshape(2,3)\n",
    "\n",
    "print(a3)\n",
    "print(b3)\n",
    "\n",
    "print(a3+b3)"
   ]
  },
  {
   "cell_type": "markdown",
   "id": "3a2ef2bd",
   "metadata": {},
   "source": [
    "**set any value of array true or false**"
   ]
  },
  {
   "cell_type": "code",
   "execution_count": 9,
   "id": "d06fa235",
   "metadata": {},
   "outputs": [
    {
     "data": {
      "text/plain": [
       "array([[False, False, False],\n",
       "       [ True, False, False]])"
      ]
     },
     "execution_count": 9,
     "metadata": {},
     "output_type": "execute_result"
    }
   ],
   "source": [
    "a3[:]==3"
   ]
  },
  {
   "cell_type": "markdown",
   "id": "b42bfd47",
   "metadata": {},
   "source": [
    "# dot product"
   ]
  },
  {
   "cell_type": "code",
   "execution_count": 22,
   "id": "19d8a979",
   "metadata": {},
   "outputs": [
    {
     "name": "stdout",
     "output_type": "stream",
     "text": [
      "n1 ::  [[0 1 2 3]\n",
      " [4 5 6 7]]\n",
      "\n",
      "n2 ::  [[0 1]\n",
      " [2 3]\n",
      " [4 5]\n",
      " [6 7]]\n"
     ]
    }
   ],
   "source": [
    "n1 = np.arange(8).reshape(2,4)\n",
    "n2 = np.arange(8).reshape(4,2)\n",
    "print(\"n1 :: \",n1)\n",
    "print(\"\\nn2 :: \",n2)"
   ]
  },
  {
   "cell_type": "code",
   "execution_count": 25,
   "id": "b2277235",
   "metadata": {},
   "outputs": [
    {
     "name": "stdout",
     "output_type": "stream",
     "text": [
      "dot product of n1 and n2 usinh method 1 ::  [[28 34]\n",
      " [76 98]]\n"
     ]
    }
   ],
   "source": [
    "n3=np.dot(n1,n2)\n",
    "print(\"dot product of n1 and n2 usinh method 1 :: \",n3)"
   ]
  },
  {
   "cell_type": "code",
   "execution_count": 26,
   "id": "3ae7d4e3",
   "metadata": {},
   "outputs": [
    {
     "name": "stdout",
     "output_type": "stream",
     "text": [
      "dot product of n1 and n2 usinh method 2 ::  [[28 34]\n",
      " [76 98]]\n"
     ]
    }
   ],
   "source": [
    "n3=n1.dot(n2)\n",
    "print(\"dot product of n1 and n2 usinh method 2 :: \",n3)"
   ]
  },
  {
   "cell_type": "code",
   "execution_count": 27,
   "id": "5ef8e2cc",
   "metadata": {},
   "outputs": [
    {
     "name": "stdout",
     "output_type": "stream",
     "text": [
      "dot product of n1 and n2 usinh method 3 ::  [[28 34]\n",
      " [76 98]]\n"
     ]
    }
   ],
   "source": [
    "n3=n1@n2\n",
    "print(\"dot product of n1 and n2 usinh method 3 :: \",n3)"
   ]
  },
  {
   "cell_type": "code",
   "execution_count": 28,
   "id": "0aa00398",
   "metadata": {},
   "outputs": [
    {
     "name": "stdout",
     "output_type": "stream",
     "text": [
      "dot product of n1 and n2 usinh method 4 ::  [[28 34]\n",
      " [76 98]]\n"
     ]
    }
   ],
   "source": [
    "n3=np.matmul(n1,n2)\n",
    "print(\"dot product of n1 and n2 usinh method 4 :: \",n3)"
   ]
  }
 ],
 "metadata": {
  "kernelspec": {
   "display_name": "Python 3 (ipykernel)",
   "language": "python",
   "name": "python3"
  },
  "language_info": {
   "codemirror_mode": {
    "name": "ipython",
    "version": 3
   },
   "file_extension": ".py",
   "mimetype": "text/x-python",
   "name": "python",
   "nbconvert_exporter": "python",
   "pygments_lexer": "ipython3",
   "version": "3.11.1"
  }
 },
 "nbformat": 4,
 "nbformat_minor": 5
}
